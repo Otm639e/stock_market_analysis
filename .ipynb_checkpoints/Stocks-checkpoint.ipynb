{
 "cells": [
  {
   "cell_type": "markdown",
   "id": "0503890b",
   "metadata": {},
   "source": [
    "# My Stock Analysis and Model"
   ]
  },
  {
   "cell_type": "code",
   "execution_count": 7,
   "id": "28e0cc07",
   "metadata": {},
   "outputs": [],
   "source": [
    "# Packages installed: pillow, kiwisolver, cycler, scipy, matplotlib, seaborn, numpy, pandas, sklearn, yahoo_fin\n",
    "# Run the commands below to install packages. \n",
    "# import sys\n",
    "# !{sys.executable} -m pip install yahoo_fin"
   ]
  },
  {
   "cell_type": "code",
   "execution_count": 37,
   "id": "ff048497",
   "metadata": {},
   "outputs": [],
   "source": [
    "# Raw Package\n",
    "import numpy as np\n",
    "import pandas as pd\n",
    "import random\n",
    "\n",
    "# Data Source\n",
    "import yfinance as yf\n",
    "from yahoo_fin import stock_info as si\n",
    "\n",
    "# Data viz\n",
    "import seaborn as sns\n",
    "from matplotlib import pyplot as plt\n",
    "\n",
    "# Regression Model\n",
    "from sklearn.linear_model import LinearRegression\n",
    "\n",
    "# Model tools\n",
    "from sklearn.model_selection import train_test_split\n",
    "from sklearn.metrics import mean_squared_error\n"
   ]
  },
  {
   "cell_type": "markdown",
   "id": "e5ba8530",
   "metadata": {},
   "source": [
    "# Exploring the yf library\n",
    "\n",
    "* With Simple Visualization and Modeling (Linear Regression)"
   ]
  },
  {
   "cell_type": "code",
   "execution_count": 3,
   "id": "03f83061",
   "metadata": {},
   "outputs": [
    {
     "name": "stdout",
     "output_type": "stream",
     "text": [
      "[*********************100%***********************]  1 of 1 completed\n"
     ]
    }
   ],
   "source": [
    "#Interval required 5 minutes\n",
    "tesla_data = yf.download(tickers='Tsla', period='5y', interval='1d')"
   ]
  },
  {
   "cell_type": "code",
   "execution_count": 4,
   "id": "daa79103",
   "metadata": {},
   "outputs": [
    {
     "data": {
      "text/html": [
       "<div>\n",
       "<style scoped>\n",
       "    .dataframe tbody tr th:only-of-type {\n",
       "        vertical-align: middle;\n",
       "    }\n",
       "\n",
       "    .dataframe tbody tr th {\n",
       "        vertical-align: top;\n",
       "    }\n",
       "\n",
       "    .dataframe thead th {\n",
       "        text-align: right;\n",
       "    }\n",
       "</style>\n",
       "<table border=\"1\" class=\"dataframe\">\n",
       "  <thead>\n",
       "    <tr style=\"text-align: right;\">\n",
       "      <th></th>\n",
       "      <th>Open</th>\n",
       "      <th>High</th>\n",
       "      <th>Low</th>\n",
       "      <th>Close</th>\n",
       "      <th>Adj Close</th>\n",
       "      <th>Volume</th>\n",
       "    </tr>\n",
       "    <tr>\n",
       "      <th>Date</th>\n",
       "      <th></th>\n",
       "      <th></th>\n",
       "      <th></th>\n",
       "      <th></th>\n",
       "      <th></th>\n",
       "      <th></th>\n",
       "    </tr>\n",
       "  </thead>\n",
       "  <tbody>\n",
       "    <tr>\n",
       "      <th>2016-12-21</th>\n",
       "      <td>41.689999</td>\n",
       "      <td>42.445999</td>\n",
       "      <td>41.481998</td>\n",
       "      <td>41.540001</td>\n",
       "      <td>41.540001</td>\n",
       "      <td>26038000</td>\n",
       "    </tr>\n",
       "    <tr>\n",
       "      <th>2016-12-22</th>\n",
       "      <td>41.644001</td>\n",
       "      <td>41.998001</td>\n",
       "      <td>41.299999</td>\n",
       "      <td>41.689999</td>\n",
       "      <td>41.689999</td>\n",
       "      <td>15555500</td>\n",
       "    </tr>\n",
       "    <tr>\n",
       "      <th>2016-12-23</th>\n",
       "      <td>41.599998</td>\n",
       "      <td>42.689999</td>\n",
       "      <td>41.542000</td>\n",
       "      <td>42.667999</td>\n",
       "      <td>42.667999</td>\n",
       "      <td>23352500</td>\n",
       "    </tr>\n",
       "    <tr>\n",
       "      <th>2016-12-27</th>\n",
       "      <td>42.976002</td>\n",
       "      <td>44.450001</td>\n",
       "      <td>42.883999</td>\n",
       "      <td>43.905998</td>\n",
       "      <td>43.905998</td>\n",
       "      <td>29578500</td>\n",
       "    </tr>\n",
       "    <tr>\n",
       "      <th>2016-12-28</th>\n",
       "      <td>44.306000</td>\n",
       "      <td>44.759998</td>\n",
       "      <td>43.439999</td>\n",
       "      <td>43.948002</td>\n",
       "      <td>43.948002</td>\n",
       "      <td>18912500</td>\n",
       "    </tr>\n",
       "    <tr>\n",
       "      <th>...</th>\n",
       "      <td>...</td>\n",
       "      <td>...</td>\n",
       "      <td>...</td>\n",
       "      <td>...</td>\n",
       "      <td>...</td>\n",
       "      <td>...</td>\n",
       "    </tr>\n",
       "    <tr>\n",
       "      <th>2021-12-14</th>\n",
       "      <td>945.000000</td>\n",
       "      <td>966.409973</td>\n",
       "      <td>930.000000</td>\n",
       "      <td>958.510010</td>\n",
       "      <td>958.510010</td>\n",
       "      <td>23602100</td>\n",
       "    </tr>\n",
       "    <tr>\n",
       "      <th>2021-12-15</th>\n",
       "      <td>953.210022</td>\n",
       "      <td>978.750000</td>\n",
       "      <td>928.250000</td>\n",
       "      <td>975.989990</td>\n",
       "      <td>975.989990</td>\n",
       "      <td>25056400</td>\n",
       "    </tr>\n",
       "    <tr>\n",
       "      <th>2021-12-16</th>\n",
       "      <td>994.500000</td>\n",
       "      <td>994.979980</td>\n",
       "      <td>921.849976</td>\n",
       "      <td>926.919983</td>\n",
       "      <td>926.919983</td>\n",
       "      <td>27590500</td>\n",
       "    </tr>\n",
       "    <tr>\n",
       "      <th>2021-12-17</th>\n",
       "      <td>914.770020</td>\n",
       "      <td>960.659973</td>\n",
       "      <td>909.039978</td>\n",
       "      <td>932.570007</td>\n",
       "      <td>932.570007</td>\n",
       "      <td>33479100</td>\n",
       "    </tr>\n",
       "    <tr>\n",
       "      <th>2021-12-20</th>\n",
       "      <td>910.700012</td>\n",
       "      <td>921.690002</td>\n",
       "      <td>893.390015</td>\n",
       "      <td>899.940002</td>\n",
       "      <td>899.940002</td>\n",
       "      <td>18757200</td>\n",
       "    </tr>\n",
       "  </tbody>\n",
       "</table>\n",
       "<p>1258 rows × 6 columns</p>\n",
       "</div>"
      ],
      "text/plain": [
       "                  Open        High         Low       Close   Adj Close  \\\n",
       "Date                                                                     \n",
       "2016-12-21   41.689999   42.445999   41.481998   41.540001   41.540001   \n",
       "2016-12-22   41.644001   41.998001   41.299999   41.689999   41.689999   \n",
       "2016-12-23   41.599998   42.689999   41.542000   42.667999   42.667999   \n",
       "2016-12-27   42.976002   44.450001   42.883999   43.905998   43.905998   \n",
       "2016-12-28   44.306000   44.759998   43.439999   43.948002   43.948002   \n",
       "...                ...         ...         ...         ...         ...   \n",
       "2021-12-14  945.000000  966.409973  930.000000  958.510010  958.510010   \n",
       "2021-12-15  953.210022  978.750000  928.250000  975.989990  975.989990   \n",
       "2021-12-16  994.500000  994.979980  921.849976  926.919983  926.919983   \n",
       "2021-12-17  914.770020  960.659973  909.039978  932.570007  932.570007   \n",
       "2021-12-20  910.700012  921.690002  893.390015  899.940002  899.940002   \n",
       "\n",
       "              Volume  \n",
       "Date                  \n",
       "2016-12-21  26038000  \n",
       "2016-12-22  15555500  \n",
       "2016-12-23  23352500  \n",
       "2016-12-27  29578500  \n",
       "2016-12-28  18912500  \n",
       "...              ...  \n",
       "2021-12-14  23602100  \n",
       "2021-12-15  25056400  \n",
       "2021-12-16  27590500  \n",
       "2021-12-17  33479100  \n",
       "2021-12-20  18757200  \n",
       "\n",
       "[1258 rows x 6 columns]"
      ]
     },
     "execution_count": 4,
     "metadata": {},
     "output_type": "execute_result"
    }
   ],
   "source": [
    "tesla_data"
   ]
  },
  {
   "cell_type": "code",
   "execution_count": 6,
   "id": "47cff292",
   "metadata": {},
   "outputs": [
    {
     "data": {
      "image/png": "[encoded data removed]",
      "text/plain": [
       "<Figure size 432x288 with 1 Axes>"
      ]
     },
     "metadata": {
      "needs_background": "light"
     },
     "output_type": "display_data"
    }
   ],
   "source": [
    "sns.lineplot(data=tesla_data, x=tesla_data.index, y='Close', alpha=0.5);"
   ]
  },
  {
   "cell_type": "code",
   "execution_count": 7,
   "id": "82524635",
   "metadata": {},
   "outputs": [],
   "source": [
    "X_tesla_data = tesla_data[['Open', 'High','Low', 'Close', 'Volume']]"
   ]
  },
  {
   "cell_type": "code",
   "execution_count": 8,
   "id": "11d0a1e0",
   "metadata": {},
   "outputs": [],
   "source": [
    "X_tesla = X_tesla_data[['Open', 'High','Low', 'Volume']]\n",
    "Y_tesla = X_tesla_data['Close']\n",
    "x_tesla_train, x_tesla_test, y_tesla_train, y_tesla_test = train_test_split(X_tesla, Y_tesla, test_size=0.1, random_state=42)"
   ]
  },
  {
   "cell_type": "code",
   "execution_count": 9,
   "id": "0e7ac539",
   "metadata": {},
   "outputs": [
    {
     "data": {
      "text/html": [
       "<div>\n",
       "<style scoped>\n",
       "    .dataframe tbody tr th:only-of-type {\n",
       "        vertical-align: middle;\n",
       "    }\n",
       "\n",
       "    .dataframe tbody tr th {\n",
       "        vertical-align: top;\n",
       "    }\n",
       "\n",
       "    .dataframe thead th {\n",
       "        text-align: right;\n",
       "    }\n",
       "</style>\n",
       "<table border=\"1\" class=\"dataframe\">\n",
       "  <thead>\n",
       "    <tr style=\"text-align: right;\">\n",
       "      <th></th>\n",
       "      <th>Open</th>\n",
       "      <th>High</th>\n",
       "      <th>Low</th>\n",
       "      <th>Volume</th>\n",
       "    </tr>\n",
       "    <tr>\n",
       "      <th>Date</th>\n",
       "      <th></th>\n",
       "      <th></th>\n",
       "      <th></th>\n",
       "      <th></th>\n",
       "    </tr>\n",
       "  </thead>\n",
       "  <tbody>\n",
       "    <tr>\n",
       "      <th>2018-10-23</th>\n",
       "      <td>52.773998</td>\n",
       "      <td>59.585999</td>\n",
       "      <td>52.419998</td>\n",
       "      <td>95139000</td>\n",
       "    </tr>\n",
       "    <tr>\n",
       "      <th>2020-03-17</th>\n",
       "      <td>88.001999</td>\n",
       "      <td>94.370003</td>\n",
       "      <td>79.199997</td>\n",
       "      <td>119973000</td>\n",
       "    </tr>\n",
       "    <tr>\n",
       "      <th>2018-05-25</th>\n",
       "      <td>55.526001</td>\n",
       "      <td>55.928001</td>\n",
       "      <td>55.122002</td>\n",
       "      <td>19375500</td>\n",
       "    </tr>\n",
       "    <tr>\n",
       "      <th>2021-08-19</th>\n",
       "      <td>678.210022</td>\n",
       "      <td>686.549988</td>\n",
       "      <td>667.590027</td>\n",
       "      <td>14313500</td>\n",
       "    </tr>\n",
       "    <tr>\n",
       "      <th>2021-12-07</th>\n",
       "      <td>1044.199951</td>\n",
       "      <td>1057.670044</td>\n",
       "      <td>1026.810059</td>\n",
       "      <td>18694900</td>\n",
       "    </tr>\n",
       "    <tr>\n",
       "      <th>...</th>\n",
       "      <td>...</td>\n",
       "      <td>...</td>\n",
       "      <td>...</td>\n",
       "      <td>...</td>\n",
       "    </tr>\n",
       "    <tr>\n",
       "      <th>2021-02-17</th>\n",
       "      <td>779.090027</td>\n",
       "      <td>799.840027</td>\n",
       "      <td>762.010010</td>\n",
       "      <td>25996500</td>\n",
       "    </tr>\n",
       "    <tr>\n",
       "      <th>2021-04-30</th>\n",
       "      <td>667.590027</td>\n",
       "      <td>715.469971</td>\n",
       "      <td>666.140015</td>\n",
       "      <td>40758700</td>\n",
       "    </tr>\n",
       "    <tr>\n",
       "      <th>2021-06-21</th>\n",
       "      <td>624.479980</td>\n",
       "      <td>631.390015</td>\n",
       "      <td>608.880005</td>\n",
       "      <td>24812700</td>\n",
       "    </tr>\n",
       "    <tr>\n",
       "      <th>2020-05-26</th>\n",
       "      <td>166.899994</td>\n",
       "      <td>166.919998</td>\n",
       "      <td>163.141998</td>\n",
       "      <td>40448500</td>\n",
       "    </tr>\n",
       "    <tr>\n",
       "      <th>2021-06-15</th>\n",
       "      <td>616.690002</td>\n",
       "      <td>616.789978</td>\n",
       "      <td>598.229980</td>\n",
       "      <td>17764100</td>\n",
       "    </tr>\n",
       "  </tbody>\n",
       "</table>\n",
       "<p>1132 rows × 4 columns</p>\n",
       "</div>"
      ],
      "text/plain": [
       "                   Open         High          Low     Volume\n",
       "Date                                                        \n",
       "2018-10-23    52.773998    59.585999    52.419998   95139000\n",
       "2020-03-17    88.001999    94.370003    79.199997  119973000\n",
       "2018-05-25    55.526001    55.928001    55.122002   19375500\n",
       "2021-08-19   678.210022   686.549988   667.590027   14313500\n",
       "2021-12-07  1044.199951  1057.670044  1026.810059   18694900\n",
       "...                 ...          ...          ...        ...\n",
       "2021-02-17   779.090027   799.840027   762.010010   25996500\n",
       "2021-04-30   667.590027   715.469971   666.140015   40758700\n",
       "2021-06-21   624.479980   631.390015   608.880005   24812700\n",
       "2020-05-26   166.899994   166.919998   163.141998   40448500\n",
       "2021-06-15   616.690002   616.789978   598.229980   17764100\n",
       "\n",
       "[1132 rows x 4 columns]"
      ]
     },
     "execution_count": 9,
     "metadata": {},
     "output_type": "execute_result"
    }
   ],
   "source": [
    "x_tesla_train"
   ]
  },
  {
   "cell_type": "code",
   "execution_count": 10,
   "id": "d52b4b7b",
   "metadata": {},
   "outputs": [
    {
     "data": {
      "text/html": [
       "<div>\n",
       "<style scoped>\n",
       "    .dataframe tbody tr th:only-of-type {\n",
       "        vertical-align: middle;\n",
       "    }\n",
       "\n",
       "    .dataframe tbody tr th {\n",
       "        vertical-align: top;\n",
       "    }\n",
       "\n",
       "    .dataframe thead th {\n",
       "        text-align: right;\n",
       "    }\n",
       "</style>\n",
       "<table border=\"1\" class=\"dataframe\">\n",
       "  <thead>\n",
       "    <tr style=\"text-align: right;\">\n",
       "      <th></th>\n",
       "      <th>Open</th>\n",
       "      <th>High</th>\n",
       "      <th>Low</th>\n",
       "      <th>Volume</th>\n",
       "    </tr>\n",
       "    <tr>\n",
       "      <th>Date</th>\n",
       "      <th></th>\n",
       "      <th></th>\n",
       "      <th></th>\n",
       "      <th></th>\n",
       "    </tr>\n",
       "  </thead>\n",
       "  <tbody>\n",
       "    <tr>\n",
       "      <th>2019-03-19</th>\n",
       "      <td>53.500000</td>\n",
       "      <td>54.660000</td>\n",
       "      <td>52.692001</td>\n",
       "      <td>59003000</td>\n",
       "    </tr>\n",
       "    <tr>\n",
       "      <th>2017-05-18</th>\n",
       "      <td>61.400002</td>\n",
       "      <td>62.787998</td>\n",
       "      <td>61.062000</td>\n",
       "      <td>28269000</td>\n",
       "    </tr>\n",
       "    <tr>\n",
       "      <th>2017-03-08</th>\n",
       "      <td>49.400002</td>\n",
       "      <td>50.014000</td>\n",
       "      <td>49.063999</td>\n",
       "      <td>18626000</td>\n",
       "    </tr>\n",
       "    <tr>\n",
       "      <th>2017-03-24</th>\n",
       "      <td>51.139999</td>\n",
       "      <td>52.778000</td>\n",
       "      <td>51.001999</td>\n",
       "      <td>28236500</td>\n",
       "    </tr>\n",
       "    <tr>\n",
       "      <th>2021-03-30</th>\n",
       "      <td>601.750000</td>\n",
       "      <td>637.659973</td>\n",
       "      <td>591.010010</td>\n",
       "      <td>39432400</td>\n",
       "    </tr>\n",
       "    <tr>\n",
       "      <th>...</th>\n",
       "      <td>...</td>\n",
       "      <td>...</td>\n",
       "      <td>...</td>\n",
       "      <td>...</td>\n",
       "    </tr>\n",
       "    <tr>\n",
       "      <th>2020-12-10</th>\n",
       "      <td>574.369995</td>\n",
       "      <td>627.750000</td>\n",
       "      <td>566.340027</td>\n",
       "      <td>67083200</td>\n",
       "    </tr>\n",
       "    <tr>\n",
       "      <th>2021-06-04</th>\n",
       "      <td>579.710022</td>\n",
       "      <td>600.609985</td>\n",
       "      <td>577.200012</td>\n",
       "      <td>24036900</td>\n",
       "    </tr>\n",
       "    <tr>\n",
       "      <th>2017-06-06</th>\n",
       "      <td>68.940002</td>\n",
       "      <td>71.898003</td>\n",
       "      <td>67.994003</td>\n",
       "      <td>55434000</td>\n",
       "    </tr>\n",
       "    <tr>\n",
       "      <th>2021-05-21</th>\n",
       "      <td>596.109985</td>\n",
       "      <td>596.679993</td>\n",
       "      <td>580.000000</td>\n",
       "      <td>26030600</td>\n",
       "    </tr>\n",
       "    <tr>\n",
       "      <th>2019-05-01</th>\n",
       "      <td>47.770000</td>\n",
       "      <td>48.000000</td>\n",
       "      <td>46.299999</td>\n",
       "      <td>53522000</td>\n",
       "    </tr>\n",
       "  </tbody>\n",
       "</table>\n",
       "<p>126 rows × 4 columns</p>\n",
       "</div>"
      ],
      "text/plain": [
       "                  Open        High         Low    Volume\n",
       "Date                                                    \n",
       "2019-03-19   53.500000   54.660000   52.692001  59003000\n",
       "2017-05-18   61.400002   62.787998   61.062000  28269000\n",
       "2017-03-08   49.400002   50.014000   49.063999  18626000\n",
       "2017-03-24   51.139999   52.778000   51.001999  28236500\n",
       "2021-03-30  601.750000  637.659973  591.010010  39432400\n",
       "...                ...         ...         ...       ...\n",
       "2020-12-10  574.369995  627.750000  566.340027  67083200\n",
       "2021-06-04  579.710022  600.609985  577.200012  24036900\n",
       "2017-06-06   68.940002   71.898003   67.994003  55434000\n",
       "2021-05-21  596.109985  596.679993  580.000000  26030600\n",
       "2019-05-01   47.770000   48.000000   46.299999  53522000\n",
       "\n",
       "[126 rows x 4 columns]"
      ]
     },
     "execution_count": 10,
     "metadata": {},
     "output_type": "execute_result"
    }
   ],
   "source": [
    "x_tesla_test"
   ]
  },
  {
   "cell_type": "code",
   "execution_count": 11,
   "id": "1d5a5629",
   "metadata": {},
   "outputs": [],
   "source": [
    "tesla_model = LinearRegression()"
   ]
  },
  {
   "cell_type": "code",
   "execution_count": 12,
   "id": "223e2e82",
   "metadata": {},
   "outputs": [
    {
     "data": {
      "text/plain": [
       "LinearRegression()"
      ]
     },
     "execution_count": 12,
     "metadata": {},
     "output_type": "execute_result"
    }
   ],
   "source": [
    "tesla_model.fit(x_tesla_train, y_tesla_train)"
   ]
  },
  {
   "cell_type": "code",
   "execution_count": 13,
   "id": "9b436b44",
   "metadata": {},
   "outputs": [],
   "source": [
    "def rmse(y_actual, y_predicted):\n",
    "    return np.sqrt(mean_squared_error(y_actual, y_predicted))"
   ]
  },
  {
   "cell_type": "code",
   "execution_count": 14,
   "id": "2a736efe",
   "metadata": {},
   "outputs": [
    {
     "data": {
      "text/plain": [
       "5.023126152099139"
      ]
     },
     "execution_count": 14,
     "metadata": {},
     "output_type": "execute_result"
    }
   ],
   "source": [
    "x_tesla_train_rmse = rmse(y_tesla_train, tesla_model.predict(x_tesla_train))\n",
    "x_tesla_train_rmse"
   ]
  },
  {
   "cell_type": "code",
   "execution_count": 15,
   "id": "90545e0b",
   "metadata": {},
   "outputs": [
    {
     "data": {
      "text/plain": [
       "5.077365757105657"
      ]
     },
     "execution_count": 15,
     "metadata": {},
     "output_type": "execute_result"
    }
   ],
   "source": [
    "x_tesla_test_rmse = rmse(y_tesla_test, tesla_model.predict(x_tesla_test))\n",
    "x_tesla_test_rmse"
   ]
  },
  {
   "cell_type": "code",
   "execution_count": 16,
   "id": "43845be7",
   "metadata": {},
   "outputs": [
    {
     "data": {
      "image/png": "[encoded data removed]",
      "text/plain": [
       "<Figure size 432x288 with 1 Axes>"
      ]
     },
     "metadata": {
      "needs_background": "light"
     },
     "output_type": "display_data"
    }
   ],
   "source": [
    "sns.lineplot(x=tesla_model.predict(x_tesla_train), y=y_tesla_train, alpha=1);"
   ]
  },
  {
   "cell_type": "code",
   "execution_count": 17,
   "id": "4abe3fa2",
   "metadata": {},
   "outputs": [],
   "source": [
    "tesla_df = pd.DataFrame({\"Actual\":y_tesla_test, \"Predicted\": tesla_model.predict(x_tesla_test)})"
   ]
  },
  {
   "cell_type": "code",
   "execution_count": 18,
   "id": "25f02b7c",
   "metadata": {},
   "outputs": [
    {
     "data": {
      "text/html": [
       "<div>\n",
       "<style scoped>\n",
       "    .dataframe tbody tr th:only-of-type {\n",
       "        vertical-align: middle;\n",
       "    }\n",
       "\n",
       "    .dataframe tbody tr th {\n",
       "        vertical-align: top;\n",
       "    }\n",
       "\n",
       "    .dataframe thead th {\n",
       "        text-align: right;\n",
       "    }\n",
       "</style>\n",
       "<table border=\"1\" class=\"dataframe\">\n",
       "  <thead>\n",
       "    <tr style=\"text-align: right;\">\n",
       "      <th></th>\n",
       "      <th>Actual</th>\n",
       "      <th>Predicted</th>\n",
       "    </tr>\n",
       "    <tr>\n",
       "      <th>Date</th>\n",
       "      <th></th>\n",
       "      <th></th>\n",
       "    </tr>\n",
       "  </thead>\n",
       "  <tbody>\n",
       "    <tr>\n",
       "      <th>2019-03-19</th>\n",
       "      <td>53.493999</td>\n",
       "      <td>53.837509</td>\n",
       "    </tr>\n",
       "    <tr>\n",
       "      <th>2017-05-18</th>\n",
       "      <td>62.612000</td>\n",
       "      <td>62.285259</td>\n",
       "    </tr>\n",
       "    <tr>\n",
       "      <th>2017-03-08</th>\n",
       "      <td>49.374001</td>\n",
       "      <td>49.615519</td>\n",
       "    </tr>\n",
       "    <tr>\n",
       "      <th>2017-03-24</th>\n",
       "      <td>52.632000</td>\n",
       "      <td>52.413192</td>\n",
       "    </tr>\n",
       "    <tr>\n",
       "      <th>2021-03-30</th>\n",
       "      <td>635.619995</td>\n",
       "      <td>625.331833</td>\n",
       "    </tr>\n",
       "    <tr>\n",
       "      <th>...</th>\n",
       "      <td>...</td>\n",
       "      <td>...</td>\n",
       "    </tr>\n",
       "    <tr>\n",
       "      <th>2020-12-10</th>\n",
       "      <td>627.070007</td>\n",
       "      <td>615.699908</td>\n",
       "    </tr>\n",
       "    <tr>\n",
       "      <th>2021-06-04</th>\n",
       "      <td>599.049988</td>\n",
       "      <td>595.711769</td>\n",
       "    </tr>\n",
       "    <tr>\n",
       "      <th>2017-06-06</th>\n",
       "      <td>70.570000</td>\n",
       "      <td>70.775281</td>\n",
       "    </tr>\n",
       "    <tr>\n",
       "      <th>2021-05-21</th>\n",
       "      <td>580.880005</td>\n",
       "      <td>583.954633</td>\n",
       "    </tr>\n",
       "    <tr>\n",
       "      <th>2019-05-01</th>\n",
       "      <td>46.801998</td>\n",
       "      <td>46.805777</td>\n",
       "    </tr>\n",
       "  </tbody>\n",
       "</table>\n",
       "<p>126 rows × 2 columns</p>\n",
       "</div>"
      ],
      "text/plain": [
       "                Actual   Predicted\n",
       "Date                              \n",
       "2019-03-19   53.493999   53.837509\n",
       "2017-05-18   62.612000   62.285259\n",
       "2017-03-08   49.374001   49.615519\n",
       "2017-03-24   52.632000   52.413192\n",
       "2021-03-30  635.619995  625.331833\n",
       "...                ...         ...\n",
       "2020-12-10  627.070007  615.699908\n",
       "2021-06-04  599.049988  595.711769\n",
       "2017-06-06   70.570000   70.775281\n",
       "2021-05-21  580.880005  583.954633\n",
       "2019-05-01   46.801998   46.805777\n",
       "\n",
       "[126 rows x 2 columns]"
      ]
     },
     "execution_count": 18,
     "metadata": {},
     "output_type": "execute_result"
    }
   ],
   "source": [
    "tesla_df"
   ]
  },
  {
   "cell_type": "code",
   "execution_count": 19,
   "id": "27186f69",
   "metadata": {},
   "outputs": [
    {
     "data": {
      "image/png": "[encoded data removed]",
      "text/plain": [
       "<Figure size 432x288 with 1 Axes>"
      ]
     },
     "metadata": {
      "needs_background": "light"
     },
     "output_type": "display_data"
    }
   ],
   "source": [
    "tesla_df.head(20).plot(kind='bar');"
   ]
  },
  {
   "cell_type": "markdown",
   "id": "38d7c5e8-8e9d-4824-bff0-dd5ccfbe1a55",
   "metadata": {},
   "source": [
    "# Now lets try Microsoft \n",
    "* With some feature enginearing"
   ]
  },
  {
   "cell_type": "code",
   "execution_count": 2,
   "id": "f93cf761-35b6-4aa2-9db7-a0b7cd3d776f",
   "metadata": {},
   "outputs": [
    {
     "name": "stdout",
     "output_type": "stream",
     "text": [
      "[*********************100%***********************]  1 of 1 completed\n"
     ]
    }
   ],
   "source": [
    "msft = yf.Ticker(\"MSFT\")\n",
    "msft_data = yf.download(tickers='MSFT', period='19y', interval='1d')"
   ]
  },
  {
   "cell_type": "code",
   "execution_count": 21,
   "id": "4988de92-29c6-4b7a-ad62-ca56c6e9d844",
   "metadata": {},
   "outputs": [
    {
     "data": {
      "text/html": [
       "<div>\n",
       "<style scoped>\n",
       "    .dataframe tbody tr th:only-of-type {\n",
       "        vertical-align: middle;\n",
       "    }\n",
       "\n",
       "    .dataframe tbody tr th {\n",
       "        vertical-align: top;\n",
       "    }\n",
       "\n",
       "    .dataframe thead th {\n",
       "        text-align: right;\n",
       "    }\n",
       "</style>\n",
       "<table border=\"1\" class=\"dataframe\">\n",
       "  <thead>\n",
       "    <tr style=\"text-align: right;\">\n",
       "      <th></th>\n",
       "      <th>Dividends</th>\n",
       "    </tr>\n",
       "    <tr>\n",
       "      <th>Date</th>\n",
       "      <th></th>\n",
       "    </tr>\n",
       "  </thead>\n",
       "  <tbody>\n",
       "    <tr>\n",
       "      <th>2003-02-19</th>\n",
       "      <td>0.08</td>\n",
       "    </tr>\n",
       "    <tr>\n",
       "      <th>2003-10-15</th>\n",
       "      <td>0.16</td>\n",
       "    </tr>\n",
       "    <tr>\n",
       "      <th>2004-08-23</th>\n",
       "      <td>0.08</td>\n",
       "    </tr>\n",
       "    <tr>\n",
       "      <th>2004-11-15</th>\n",
       "      <td>3.08</td>\n",
       "    </tr>\n",
       "    <tr>\n",
       "      <th>2005-02-15</th>\n",
       "      <td>0.08</td>\n",
       "    </tr>\n",
       "    <tr>\n",
       "      <th>...</th>\n",
       "      <td>...</td>\n",
       "    </tr>\n",
       "    <tr>\n",
       "      <th>2020-11-18</th>\n",
       "      <td>0.56</td>\n",
       "    </tr>\n",
       "    <tr>\n",
       "      <th>2021-02-17</th>\n",
       "      <td>0.56</td>\n",
       "    </tr>\n",
       "    <tr>\n",
       "      <th>2021-05-19</th>\n",
       "      <td>0.56</td>\n",
       "    </tr>\n",
       "    <tr>\n",
       "      <th>2021-08-18</th>\n",
       "      <td>0.56</td>\n",
       "    </tr>\n",
       "    <tr>\n",
       "      <th>2021-11-17</th>\n",
       "      <td>0.62</td>\n",
       "    </tr>\n",
       "  </tbody>\n",
       "</table>\n",
       "<p>72 rows × 1 columns</p>\n",
       "</div>"
      ],
      "text/plain": [
       "            Dividends\n",
       "Date                 \n",
       "2003-02-19       0.08\n",
       "2003-10-15       0.16\n",
       "2004-08-23       0.08\n",
       "2004-11-15       3.08\n",
       "2005-02-15       0.08\n",
       "...               ...\n",
       "2020-11-18       0.56\n",
       "2021-02-17       0.56\n",
       "2021-05-19       0.56\n",
       "2021-08-18       0.56\n",
       "2021-11-17       0.62\n",
       "\n",
       "[72 rows x 1 columns]"
      ]
     },
     "execution_count": 21,
     "metadata": {},
     "output_type": "execute_result"
    }
   ],
   "source": [
    "msft_div = pd.DataFrame(msft.dividends)\n",
    "msft_div"
   ]
  },
  {
   "cell_type": "code",
   "execution_count": 22,
   "id": "c3b556e3-f50e-4b03-afcd-48a61c09b6a0",
   "metadata": {},
   "outputs": [
    {
     "data": {
      "text/html": [
       "<div>\n",
       "<style scoped>\n",
       "    .dataframe tbody tr th:only-of-type {\n",
       "        vertical-align: middle;\n",
       "    }\n",
       "\n",
       "    .dataframe tbody tr th {\n",
       "        vertical-align: top;\n",
       "    }\n",
       "\n",
       "    .dataframe thead th {\n",
       "        text-align: right;\n",
       "    }\n",
       "</style>\n",
       "<table border=\"1\" class=\"dataframe\">\n",
       "  <thead>\n",
       "    <tr style=\"text-align: right;\">\n",
       "      <th></th>\n",
       "      <th>Open</th>\n",
       "      <th>High</th>\n",
       "      <th>Low</th>\n",
       "      <th>Close</th>\n",
       "      <th>Adj Close</th>\n",
       "      <th>Volume</th>\n",
       "      <th>Dividends</th>\n",
       "    </tr>\n",
       "    <tr>\n",
       "      <th>Date</th>\n",
       "      <th></th>\n",
       "      <th></th>\n",
       "      <th></th>\n",
       "      <th></th>\n",
       "      <th></th>\n",
       "      <th></th>\n",
       "      <th></th>\n",
       "    </tr>\n",
       "  </thead>\n",
       "  <tbody>\n",
       "    <tr>\n",
       "      <th>2003-02-19</th>\n",
       "      <td>24.820000</td>\n",
       "      <td>24.879999</td>\n",
       "      <td>24.170000</td>\n",
       "      <td>24.530001</td>\n",
       "      <td>15.536116</td>\n",
       "      <td>46902700</td>\n",
       "      <td>0.08</td>\n",
       "    </tr>\n",
       "    <tr>\n",
       "      <th>2003-10-15</th>\n",
       "      <td>29.200001</td>\n",
       "      <td>29.260000</td>\n",
       "      <td>28.700001</td>\n",
       "      <td>29.070000</td>\n",
       "      <td>18.514822</td>\n",
       "      <td>57242100</td>\n",
       "      <td>0.16</td>\n",
       "    </tr>\n",
       "    <tr>\n",
       "      <th>2004-08-23</th>\n",
       "      <td>27.270000</td>\n",
       "      <td>27.330000</td>\n",
       "      <td>27.120001</td>\n",
       "      <td>27.240000</td>\n",
       "      <td>17.400461</td>\n",
       "      <td>39572200</td>\n",
       "      <td>0.08</td>\n",
       "    </tr>\n",
       "    <tr>\n",
       "      <th>2004-11-15</th>\n",
       "      <td>27.340000</td>\n",
       "      <td>27.500000</td>\n",
       "      <td>27.200001</td>\n",
       "      <td>27.389999</td>\n",
       "      <td>19.500317</td>\n",
       "      <td>104468000</td>\n",
       "      <td>3.08</td>\n",
       "    </tr>\n",
       "    <tr>\n",
       "      <th>2005-02-15</th>\n",
       "      <td>26.000000</td>\n",
       "      <td>26.080000</td>\n",
       "      <td>25.860001</td>\n",
       "      <td>25.930000</td>\n",
       "      <td>18.517830</td>\n",
       "      <td>76551600</td>\n",
       "      <td>0.08</td>\n",
       "    </tr>\n",
       "    <tr>\n",
       "      <th>...</th>\n",
       "      <td>...</td>\n",
       "      <td>...</td>\n",
       "      <td>...</td>\n",
       "      <td>...</td>\n",
       "      <td>...</td>\n",
       "      <td>...</td>\n",
       "      <td>...</td>\n",
       "    </tr>\n",
       "    <tr>\n",
       "      <th>2020-11-18</th>\n",
       "      <td>213.649994</td>\n",
       "      <td>215.169998</td>\n",
       "      <td>210.929993</td>\n",
       "      <td>211.080002</td>\n",
       "      <td>209.325378</td>\n",
       "      <td>28372800</td>\n",
       "      <td>0.56</td>\n",
       "    </tr>\n",
       "    <tr>\n",
       "      <th>2021-02-17</th>\n",
       "      <td>241.320007</td>\n",
       "      <td>244.309998</td>\n",
       "      <td>240.940002</td>\n",
       "      <td>244.199997</td>\n",
       "      <td>242.727814</td>\n",
       "      <td>21653500</td>\n",
       "      <td>0.56</td>\n",
       "    </tr>\n",
       "    <tr>\n",
       "      <th>2021-05-19</th>\n",
       "      <td>239.309998</td>\n",
       "      <td>243.229996</td>\n",
       "      <td>238.600006</td>\n",
       "      <td>243.119995</td>\n",
       "      <td>242.212326</td>\n",
       "      <td>25739800</td>\n",
       "      <td>0.56</td>\n",
       "    </tr>\n",
       "    <tr>\n",
       "      <th>2021-08-18</th>\n",
       "      <td>292.040009</td>\n",
       "      <td>294.820007</td>\n",
       "      <td>290.269989</td>\n",
       "      <td>290.730011</td>\n",
       "      <td>290.199097</td>\n",
       "      <td>21813000</td>\n",
       "      <td>0.56</td>\n",
       "    </tr>\n",
       "    <tr>\n",
       "      <th>2021-11-17</th>\n",
       "      <td>338.940002</td>\n",
       "      <td>342.190002</td>\n",
       "      <td>338.000000</td>\n",
       "      <td>339.119995</td>\n",
       "      <td>339.119995</td>\n",
       "      <td>19053400</td>\n",
       "      <td>0.62</td>\n",
       "    </tr>\n",
       "  </tbody>\n",
       "</table>\n",
       "<p>72 rows × 7 columns</p>\n",
       "</div>"
      ],
      "text/plain": [
       "                  Open        High         Low       Close   Adj Close  \\\n",
       "Date                                                                     \n",
       "2003-02-19   24.820000   24.879999   24.170000   24.530001   15.536116   \n",
       "2003-10-15   29.200001   29.260000   28.700001   29.070000   18.514822   \n",
       "2004-08-23   27.270000   27.330000   27.120001   27.240000   17.400461   \n",
       "2004-11-15   27.340000   27.500000   27.200001   27.389999   19.500317   \n",
       "2005-02-15   26.000000   26.080000   25.860001   25.930000   18.517830   \n",
       "...                ...         ...         ...         ...         ...   \n",
       "2020-11-18  213.649994  215.169998  210.929993  211.080002  209.325378   \n",
       "2021-02-17  241.320007  244.309998  240.940002  244.199997  242.727814   \n",
       "2021-05-19  239.309998  243.229996  238.600006  243.119995  242.212326   \n",
       "2021-08-18  292.040009  294.820007  290.269989  290.730011  290.199097   \n",
       "2021-11-17  338.940002  342.190002  338.000000  339.119995  339.119995   \n",
       "\n",
       "               Volume  Dividends  \n",
       "Date                              \n",
       "2003-02-19   46902700       0.08  \n",
       "2003-10-15   57242100       0.16  \n",
       "2004-08-23   39572200       0.08  \n",
       "2004-11-15  104468000       3.08  \n",
       "2005-02-15   76551600       0.08  \n",
       "...               ...        ...  \n",
       "2020-11-18   28372800       0.56  \n",
       "2021-02-17   21653500       0.56  \n",
       "2021-05-19   25739800       0.56  \n",
       "2021-08-18   21813000       0.56  \n",
       "2021-11-17   19053400       0.62  \n",
       "\n",
       "[72 rows x 7 columns]"
      ]
     },
     "execution_count": 22,
     "metadata": {},
     "output_type": "execute_result"
    }
   ],
   "source": [
    "my_msft_data_frame = pd.DataFrame(msft_data.loc[msft_div.index])\n",
    "my_msft_data_frame['Dividends'] = msft_div[['Dividends']]\n",
    "my_msft_data_frame"
   ]
  },
  {
   "cell_type": "code",
   "execution_count": 23,
   "id": "08799dbe-6b68-4153-9750-f380ea387fff",
   "metadata": {},
   "outputs": [
    {
     "data": {
      "image/png": "[encoded data removed]",
      "text/plain": [
       "<Figure size 432x288 with 1 Axes>"
      ]
     },
     "metadata": {
      "needs_background": "light"
     },
     "output_type": "display_data"
    }
   ],
   "source": [
    "m_data = my_msft_data_frame[my_msft_data_frame['Dividends']<3.0]\n",
    "sns.scatterplot(x=m_data['Dividends']**4, y=m_data['Close']);"
   ]
  },
  {
   "cell_type": "code",
   "execution_count": 24,
   "id": "ca00a610-5ff5-4909-95e8-c0f0e9ec379c",
   "metadata": {},
   "outputs": [
    {
     "data": {
      "image/png": "[encoded data removed]",
      "text/plain": [
       "<Figure size 432x288 with 1 Axes>"
      ]
     },
     "metadata": {
      "needs_background": "light"
     },
     "output_type": "display_data"
    }
   ],
   "source": [
    "sns.scatterplot(x=m_data['Dividends']**2, y=np.log(m_data['Close']));"
   ]
  },
  {
   "cell_type": "code",
   "execution_count": 25,
   "id": "d4dcc402-9395-4ac8-8ac9-50a958600c97",
   "metadata": {},
   "outputs": [
    {
     "data": {
      "image/png": "[encoded data removed]",
      "text/plain": [
       "<Figure size 432x288 with 1 Axes>"
      ]
     },
     "metadata": {
      "needs_background": "light"
     },
     "output_type": "display_data"
    }
   ],
   "source": [
    "sns.scatterplot(x=m_data['Dividends']**3, y=np.sqrt(m_data['Close']));"
   ]
  },
  {
   "cell_type": "code",
   "execution_count": 26,
   "id": "e2745137-f4dc-45d6-9a1b-360756a5c893",
   "metadata": {},
   "outputs": [
    {
     "data": {
      "image/png": "[encoded data removed]",
      "text/plain": [
       "<Figure size 432x288 with 1 Axes>"
      ]
     },
     "metadata": {
      "needs_background": "light"
     },
     "output_type": "display_data"
    }
   ],
   "source": [
    "sns.scatterplot(x=m_data['Dividends'], y=m_data['Close']);"
   ]
  },
  {
   "cell_type": "code",
   "execution_count": 46,
   "id": "6e6db3b9",
   "metadata": {},
   "outputs": [
    {
     "name": "stdout",
     "output_type": "stream",
     "text": [
      "Training Score:  0.9798630941820888\n",
      "Testing Score:  0.9650481817266343\n"
     ]
    }
   ],
   "source": [
    "# AS it turns out these linear transformations give the best R^2 scores.\n",
    "\n",
    "msft_model = LinearRegression()\n",
    "X_msft = m_data[['Dividends']]**3\n",
    "Y_msft = np.sqrt(m_data['Close'])\n",
    "x_msft_train, x_msft_test, y_msft_train, y_msft_test = train_test_split(X_msft, Y_msft, test_size=0.33, random_state=42)\n",
    "\n",
    "msft_model.fit(x_msft_train, y_msft_train)\n",
    "print(\"Training Score: \", msft_model.score(x_msft_train, y_msft_train)), print(\"Testing Score: \", msft_model.score(x_msft_test, y_msft_test));\n"
   ]
  },
  {
   "cell_type": "markdown",
   "id": "b5d67ce8-e964-45d3-820c-679936568ccc",
   "metadata": {},
   "source": [
    "**Now we have seen some microsoft data and the yf.Ticker. As well as explored how good dividends are as a predictor**"
   ]
  },
  {
   "cell_type": "markdown",
   "id": "35456b70",
   "metadata": {},
   "source": [
    "# Lets try to get data that summaraizes the market the best."
   ]
  },
  {
   "cell_type": "code",
   "execution_count": 140,
   "id": "02fcc29a",
   "metadata": {},
   "outputs": [],
   "source": [
    "sns.set(rc = {'figure.figsize':(20,8)})"
   ]
  },
  {
   "cell_type": "code",
   "execution_count": 32,
   "id": "58d63f8f",
   "metadata": {},
   "outputs": [],
   "source": [
    "sp500 = set(si.tickers_sp500())\n",
    "nasdaq = set(si.tickers_nasdaq())\n",
    "dow = set(si.tickers_dow())\n",
    "all_exchanges_tickers = set.union(sp500, nasdaq, dow)"
   ]
  },
  {
   "cell_type": "markdown",
   "id": "6f569a7c",
   "metadata": {},
   "source": [
    "A stock exchange acts as a market where stock buyers connect with stock sellers. Stocks can be traded on several exchanges."
   ]
  },
  {
   "cell_type": "markdown",
   "id": "4c8e1155",
   "metadata": {},
   "source": [
    "Lets delete stocks with a bad fith letter identifier"
   ]
  },
  {
   "cell_type": "code",
   "execution_count": 29,
   "id": "e697374e",
   "metadata": {},
   "outputs": [
    {
     "name": "stdout",
     "output_type": "stream",
     "text": [
      "Removed 809 unqualified stock symbols\n",
      "Kept 5187 qualified stock symbols\n"
     ]
    }
   ],
   "source": [
    "bad_letters = ['W', 'R', 'P', 'Q']\n",
    "del_set = set()\n",
    "save_set = set()\n",
    "for ticker in all_exchanges_tickers:\n",
    "    if len(ticker) > 4 and ticker[-1] in bad_letters:\n",
    "        del_set.add(ticker)\n",
    "    else:\n",
    "        save_set.add(ticker)\n",
    "print(f'Removed {len(del_set)} unqualified stock symbols')\n",
    "print(f'Kept {len(save_set)} qualified stock symbols')\n",
    "\n",
    "our_tickers = save_set  "
   ]
  },
  {
   "cell_type": "markdown",
   "id": "bd0c7210",
   "metadata": {},
   "source": [
    "Now we have a list of tickers from all three exchanges: sp500, nasdaq, dow"
   ]
  },
  {
   "cell_type": "code",
   "execution_count": 144,
   "id": "789570f9",
   "metadata": {},
   "outputs": [
    {
     "name": "stdout",
     "output_type": "stream",
     "text": [
      "[*********************100%***********************]  1 of 1 completed\n",
      "[*********************100%***********************]  1 of 1 completed\n",
      "[*********************100%***********************]  1 of 1 completed\n",
      "[*********************100%***********************]  1 of 1 completed\n",
      "[*********************100%***********************]  1 of 1 completed\n",
      "[*********************100%***********************]  1 of 1 completed\n",
      "[*********************100%***********************]  1 of 1 completed\n",
      "[*********************100%***********************]  1 of 1 completed\n",
      "[*********************100%***********************]  1 of 1 completed\n",
      "[*********************100%***********************]  1 of 1 completed\n",
      "[*********************100%***********************]  1 of 1 completed\n",
      "[*********************100%***********************]  1 of 1 completed\n",
      "[*********************100%***********************]  1 of 1 completed\n",
      "[*********************100%***********************]  1 of 1 completed\n",
      "[*********************100%***********************]  1 of 1 completed\n",
      "[*********************100%***********************]  1 of 1 completed\n",
      "[*********************100%***********************]  1 of 1 completed\n",
      "[*********************100%***********************]  1 of 1 completed\n",
      "[*********************100%***********************]  1 of 1 completed\n",
      "[*********************100%***********************]  1 of 1 completed\n",
      "[*********************100%***********************]  1 of 1 completed\n",
      "[*********************100%***********************]  1 of 1 completed\n",
      "[*********************100%***********************]  1 of 1 completed\n",
      "[*********************100%***********************]  1 of 1 completed\n",
      "[*********************100%***********************]  1 of 1 completed\n",
      "[*********************100%***********************]  1 of 1 completed\n",
      "[*********************100%***********************]  1 of 1 completed\n",
      "[*********************100%***********************]  1 of 1 completed\n",
      "[*********************100%***********************]  1 of 1 completed\n",
      "[*********************100%***********************]  1 of 1 completed\n",
      "[*********************100%***********************]  1 of 1 completed\n",
      "[*********************100%***********************]  1 of 1 completed\n",
      "[*********************100%***********************]  1 of 1 completed\n",
      "[*********************100%***********************]  1 of 1 completed\n",
      "[*********************100%***********************]  1 of 1 completed\n",
      "[*********************100%***********************]  1 of 1 completed\n",
      "[*********************100%***********************]  1 of 1 completed\n",
      "[*********************100%***********************]  1 of 1 completed\n",
      "[*********************100%***********************]  1 of 1 completed\n",
      "[*********************100%***********************]  1 of 1 completed\n",
      "[*********************100%***********************]  1 of 1 completed\n",
      "[*********************100%***********************]  1 of 1 completed\n",
      "[*********************100%***********************]  1 of 1 completed\n",
      "[*********************100%***********************]  1 of 1 completed\n",
      "[*********************100%***********************]  1 of 1 completed\n",
      "[*********************100%***********************]  1 of 1 completed\n",
      "[*********************100%***********************]  1 of 1 completed\n",
      "[*********************100%***********************]  1 of 1 completed\n",
      "[*********************100%***********************]  1 of 1 completed\n",
      "[*********************100%***********************]  1 of 1 completed\n",
      "[*********************100%***********************]  1 of 1 completed\n",
      "[*********************100%***********************]  1 of 1 completed\n",
      "[*********************100%***********************]  1 of 1 completed\n",
      "[*********************100%***********************]  1 of 1 completed\n",
      "[*********************100%***********************]  1 of 1 completed\n",
      "[*********************100%***********************]  1 of 1 completed\n",
      "[*********************100%***********************]  1 of 1 completed\n",
      "[*********************100%***********************]  1 of 1 completed\n",
      "[*********************100%***********************]  1 of 1 completed\n",
      "[*********************100%***********************]  1 of 1 completed\n",
      "[*********************100%***********************]  1 of 1 completed\n",
      "[*********************100%***********************]  1 of 1 completed\n",
      "[*********************100%***********************]  1 of 1 completed\n",
      "[*********************100%***********************]  1 of 1 completed\n",
      "[*********************100%***********************]  1 of 1 completed\n",
      "[*********************100%***********************]  1 of 1 completed\n",
      "[*********************100%***********************]  1 of 1 completed\n",
      "[*********************100%***********************]  1 of 1 completed\n",
      "[*********************100%***********************]  1 of 1 completed\n",
      "[*********************100%***********************]  1 of 1 completed\n",
      "[*********************100%***********************]  1 of 1 completed\n",
      "[*********************100%***********************]  1 of 1 completed\n",
      "[*********************100%***********************]  1 of 1 completed\n",
      "[*********************100%***********************]  1 of 1 completed\n",
      "[*********************100%***********************]  1 of 1 completed\n",
      "[*********************100%***********************]  1 of 1 completed\n",
      "[*********************100%***********************]  1 of 1 completed\n",
      "[*********************100%***********************]  1 of 1 completed\n",
      "[*********************100%***********************]  1 of 1 completed\n",
      "[*********************100%***********************]  1 of 1 completed\n",
      "[*********************100%***********************]  1 of 1 completed\n",
      "[*********************100%***********************]  1 of 1 completed\n",
      "[*********************100%***********************]  1 of 1 completed\n",
      "[*********************100%***********************]  1 of 1 completed\n",
      "[*********************100%***********************]  1 of 1 completed\n",
      "[*********************100%***********************]  1 of 1 completed\n",
      "[*********************100%***********************]  1 of 1 completed\n",
      "[*********************100%***********************]  1 of 1 completed\n",
      "[*********************100%***********************]  1 of 1 completed\n",
      "[*********************100%***********************]  1 of 1 completed\n",
      "[*********************100%***********************]  1 of 1 completed\n",
      "[*********************100%***********************]  1 of 1 completed\n",
      "[*********************100%***********************]  1 of 1 completed\n",
      "[*********************100%***********************]  1 of 1 completed\n",
      "[*********************100%***********************]  1 of 1 completed\n",
      "[*********************100%***********************]  1 of 1 completed\n",
      "[*********************100%***********************]  1 of 1 completed\n",
      "[*********************100%***********************]  1 of 1 completed\n",
      "[*********************100%***********************]  1 of 1 completed\n",
      "[*********************100%***********************]  1 of 1 completed\n",
      "[*********************100%***********************]  1 of 1 completed\n",
      "[*********************100%***********************]  1 of 1 completed\n",
      "[*********************100%***********************]  1 of 1 completed\n",
      "[*********************100%***********************]  1 of 1 completed\n",
      "[*********************100%***********************]  1 of 1 completed\n",
      "[*********************100%***********************]  1 of 1 completed\n",
      "[*********************100%***********************]  1 of 1 completed\n",
      "[*********************100%***********************]  1 of 1 completed\n",
      "[*********************100%***********************]  1 of 1 completed\n",
      "[*********************100%***********************]  1 of 1 completed\n",
      "[*********************100%***********************]  1 of 1 completed\n",
      "[*********************100%***********************]  1 of 1 completed\n",
      "[*********************100%***********************]  1 of 1 completed\n",
      "[*********************100%***********************]  1 of 1 completed\n",
      "[*********************100%***********************]  1 of 1 completed\n",
      "[*********************100%***********************]  1 of 1 completed\n",
      "[*********************100%***********************]  1 of 1 completed\n",
      "[*********************100%***********************]  1 of 1 completed\n"
     ]
    },
    {
     "name": "stdout",
     "output_type": "stream",
     "text": [
      "[*********************100%***********************]  1 of 1 completed\n",
      "[*********************100%***********************]  1 of 1 completed\n",
      "[*********************100%***********************]  1 of 1 completed\n",
      "[*********************100%***********************]  1 of 1 completed\n",
      "[*********************100%***********************]  1 of 1 completed\n",
      "[*********************100%***********************]  1 of 1 completed\n",
      "[*********************100%***********************]  1 of 1 completed\n",
      "[*********************100%***********************]  1 of 1 completed\n",
      "[*********************100%***********************]  1 of 1 completed\n",
      "[*********************100%***********************]  1 of 1 completed\n",
      "[*********************100%***********************]  1 of 1 completed\n",
      "[*********************100%***********************]  1 of 1 completed\n",
      "[*********************100%***********************]  1 of 1 completed\n",
      "[*********************100%***********************]  1 of 1 completed\n",
      "[*********************100%***********************]  1 of 1 completed\n",
      "[*********************100%***********************]  1 of 1 completed\n",
      "[*********************100%***********************]  1 of 1 completed\n",
      "[*********************100%***********************]  1 of 1 completed\n",
      "[*********************100%***********************]  1 of 1 completed\n",
      "[*********************100%***********************]  1 of 1 completed\n",
      "[*********************100%***********************]  1 of 1 completed\n",
      "[*********************100%***********************]  1 of 1 completed\n",
      "[*********************100%***********************]  1 of 1 completed\n",
      "[*********************100%***********************]  1 of 1 completed\n",
      "[*********************100%***********************]  1 of 1 completed\n",
      "[*********************100%***********************]  1 of 1 completed\n",
      "[*********************100%***********************]  1 of 1 completed\n",
      "[*********************100%***********************]  1 of 1 completed\n",
      "[*********************100%***********************]  1 of 1 completed\n",
      "[*********************100%***********************]  1 of 1 completed\n",
      "[*********************100%***********************]  1 of 1 completed\n",
      "[*********************100%***********************]  1 of 1 completed\n",
      "[*********************100%***********************]  1 of 1 completed\n",
      "[*********************100%***********************]  1 of 1 completed\n",
      "[*********************100%***********************]  1 of 1 completed\n",
      "[*********************100%***********************]  1 of 1 completed\n",
      "[*********************100%***********************]  1 of 1 completed\n",
      "[*********************100%***********************]  1 of 1 completed\n",
      "[*********************100%***********************]  1 of 1 completed\n",
      "[*********************100%***********************]  1 of 1 completed\n",
      "[*********************100%***********************]  1 of 1 completed\n",
      "[*********************100%***********************]  1 of 1 completed\n",
      "[*********************100%***********************]  1 of 1 completed\n",
      "[*********************100%***********************]  1 of 1 completed\n",
      "[*********************100%***********************]  1 of 1 completed\n",
      "[*********************100%***********************]  1 of 1 completed\n",
      "[*********************100%***********************]  1 of 1 completed\n",
      "[*********************100%***********************]  1 of 1 completed\n",
      "[*********************100%***********************]  1 of 1 completed\n",
      "[*********************100%***********************]  1 of 1 completed\n",
      "[*********************100%***********************]  1 of 1 completed\n",
      "[*********************100%***********************]  1 of 1 completed\n",
      "[*********************100%***********************]  1 of 1 completed\n",
      "[*********************100%***********************]  1 of 1 completed\n",
      "[*********************100%***********************]  1 of 1 completed\n",
      "[*********************100%***********************]  1 of 1 completed\n",
      "[*********************100%***********************]  1 of 1 completed\n",
      "[*********************100%***********************]  1 of 1 completed\n",
      "[*********************100%***********************]  1 of 1 completed\n",
      "[*********************100%***********************]  1 of 1 completed\n",
      "[*********************100%***********************]  1 of 1 completed\n",
      "[*********************100%***********************]  1 of 1 completed\n",
      "[*********************100%***********************]  1 of 1 completed\n",
      "[*********************100%***********************]  1 of 1 completed\n",
      "[*********************100%***********************]  1 of 1 completed\n",
      "[*********************100%***********************]  1 of 1 completed\n",
      "[*********************100%***********************]  1 of 1 completed\n",
      "[*********************100%***********************]  1 of 1 completed\n",
      "[*********************100%***********************]  1 of 1 completed\n",
      "[*********************100%***********************]  1 of 1 completed\n",
      "[*********************100%***********************]  1 of 1 completed\n",
      "[*********************100%***********************]  1 of 1 completed\n",
      "[*********************100%***********************]  1 of 1 completed\n",
      "[*********************100%***********************]  1 of 1 completed\n",
      "[*********************100%***********************]  1 of 1 completed\n",
      "[*********************100%***********************]  1 of 1 completed\n",
      "[*********************100%***********************]  1 of 1 completed\n",
      "[*********************100%***********************]  1 of 1 completed\n",
      "[*********************100%***********************]  1 of 1 completed\n",
      "[*********************100%***********************]  1 of 1 completed\n",
      "[*********************100%***********************]  1 of 1 completed\n",
      "[*********************100%***********************]  1 of 1 completed\n"
     ]
    }
   ],
   "source": [
    "random.seed(100)\n",
    "Dates_distribution=[]\n",
    "\n",
    "for ticker in random.sample(our_tickers, 200):\n",
    "    data = yf.download(tickers=ticker, period='2y', interval='1mo').dropna()\n",
    "    max_price_date = data[data['Close']==max(data['Close'])].index.astype(str)\n",
    "    Dates_distribution.append(max_price_date[0])"
   ]
  },
  {
   "cell_type": "code",
   "execution_count": 145,
   "id": "90dcdc9e",
   "metadata": {},
   "outputs": [
    {
     "data": {
      "image/png": "[encoded data removed]",
      "text/plain": [
       "<Figure size 1440x576 with 1 Axes>"
      ]
     },
     "metadata": {},
     "output_type": "display_data"
    }
   ],
   "source": [
    "dist = pd.DataFrame(Dates_distribution).rename(columns={0:\"Date\"}).sort_values('Date')\n",
    "sns.histplot(data=dist, x=\"Date\")\n",
    "plt.xticks(rotation=45);"
   ]
  },
  {
   "cell_type": "markdown",
   "id": "0cc8a0e1",
   "metadata": {},
   "source": []
  }
 ],
 "metadata": {
  "kernelspec": {
   "display_name": "Python 3",
   "language": "python",
   "name": "python3"
  },
  "language_info": {
   "codemirror_mode": {
    "name": "ipython",
    "version": 3
   },
   "file_extension": ".py",
   "mimetype": "text/x-python",
   "name": "python",
   "nbconvert_exporter": "python",
   "pygments_lexer": "ipython3",
   "version": "3.8.8"
  }
 },
 "nbformat": 4,
 "nbformat_minor": 5
}
